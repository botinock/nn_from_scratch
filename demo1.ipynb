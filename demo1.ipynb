{
 "cells": [
  {
   "cell_type": "code",
   "execution_count": null,
   "metadata": {},
   "outputs": [],
   "source": [
    "import pandas as pd\n",
    "import tqdm\n",
    "import os\n",
    "from torch.utils.tensorboard import SummaryWriter\n",
    "\n",
    "df_train = pd.read_csv('data_le.txt', sep=r\"\\s+\", header=None, names=['x1', 'x2', 'y'])\n",
    "df_test = pd.read_csv('data_cc1.txt', sep=r\"\\s+\", header=None, names=['x1', 'x2', 'y'])\n",
    "\n",
    "df_train['y'] = (df_train['y'] + 1) / 2\n",
    "df_test['y'] = (df_test['y'] + 1) / 2"
   ]
  },
  {
   "cell_type": "code",
   "execution_count": null,
   "metadata": {},
   "outputs": [],
   "source": [
    "from nn.dataset import DataSet\n",
    "from nn.model import Sequential\n",
    "from nn.linear import Linear\n",
    "from nn.activation import Sigmoid\n",
    "from nn.loss import BCE\n",
    "from nn.optimizer import SGD\n",
    "from nn.weights import xavier_normal"
   ]
  },
  {
   "cell_type": "code",
   "execution_count": null,
   "metadata": {},
   "outputs": [],
   "source": [
    "train_dataset = DataSet(df_train[['x1', 'x2']].values, df_train['y'].values)\n",
    "test_dataset = DataSet(df_test[['x1', 'x2']].values, df_test['y'].values, batch_size=300)"
   ]
  },
  {
   "cell_type": "code",
   "execution_count": null,
   "metadata": {},
   "outputs": [],
   "source": [
    "from sklearn import metrics as sk_metrics\n",
    "\n",
    "def calculate_metrics(pred, target, thresh=0.5):\n",
    "    metrics = {}\n",
    "    metrics['ap'] = sk_metrics.average_precision_score(target, pred)\n",
    "    try:\n",
    "        metrics['auc'] = sk_metrics.roc_auc_score(target, pred)\n",
    "    except:\n",
    "        metrics['auc'] = metrics['ap']\n",
    "    metrics['acc'] = sk_metrics.accuracy_score(target, pred > thresh)\n",
    "    metrics['p'] = sk_metrics.precision_score(target, pred > thresh)\n",
    "    metrics['r'] = sk_metrics.recall_score(target, pred > thresh)\n",
    "    metrics['f1'] = sk_metrics.f1_score(target, pred > thresh)\n",
    "    return metrics"
   ]
  },
  {
   "cell_type": "code",
   "execution_count": null,
   "metadata": {},
   "outputs": [],
   "source": [
    "params = {\n",
    "    'batch_size': 32,\n",
    "    'epoches': 100,\n",
    "    'lr': 1e-1,\n",
    "}"
   ]
  },
  {
   "cell_type": "code",
   "execution_count": null,
   "metadata": {},
   "outputs": [],
   "source": [
    "model = Sequential(\n",
    "    layers=[       \n",
    "        Linear(2, 1, weights_init=xavier_normal),\n",
    "        Sigmoid()\n",
    "    ],\n",
    "    opt=SGD(lr=params['lr']))\n",
    "loss_fn = BCE()"
   ]
  },
  {
   "cell_type": "code",
   "execution_count": null,
   "metadata": {},
   "outputs": [],
   "source": [
    "exp_name = \"test\"\n",
    "i = 1\n",
    "fold = f'demo_1'\n",
    "folder = f'./{fold}/{exp_name}'\n",
    "while os.path.isdir(folder):\n",
    "    i += 1\n",
    "    folder = f'./{fold}/{exp_name}_{i}'\n",
    "writer = SummaryWriter(folder)\n",
    "\n",
    "for epoch in range(params['epoches']):\n",
    "    # Train\n",
    "    with tqdm.tqdm(train_dataset, unit=\"batches\") as tepoch:\n",
    "        epoch_metrics = {}\n",
    "        counter = 0\n",
    "        for data, target in tepoch:\n",
    "            tepoch.set_description(f\"Epoch {epoch} / Train\")\n",
    "            \n",
    "            output = model(data).squeeze()\n",
    "            loss = loss_fn(output, target)\n",
    "\n",
    "            # Metrics\n",
    "            metrics = calculate_metrics(output, target)\n",
    "            metrics['loss'] = loss\n",
    "\n",
    "            # Tensorboard\n",
    "            cur_batch = len(target)\n",
    "            if counter:\n",
    "                for k, v in metrics.items():\n",
    "                    epoch_metrics[k] = (epoch_metrics[k]*counter + v*cur_batch)/(counter + cur_batch)\n",
    "            else:\n",
    "                epoch_metrics = metrics.copy()\n",
    "            counter += cur_batch\n",
    "\n",
    "            # Backward\n",
    "            model.backward(loss_fn.backward())\n",
    "\n",
    "            tepoch.set_postfix(**epoch_metrics)\n",
    "        for k, v in epoch_metrics.items():\n",
    "            writer.add_scalar(f\"Train/{k}\", v, global_step=epoch)\n",
    "\n",
    "    # Test\n",
    "    with tqdm.tqdm(test_dataset, unit=\"batch\") as tepoch:\n",
    "        for data, target in tepoch:\n",
    "            tepoch.set_description(f\"Epoch {epoch} / Test\")\n",
    "            \n",
    "            output = model(data).squeeze()\n",
    "            loss = loss_fn(output, target)\n",
    "\n",
    "            # Metrics\n",
    "            metrics = calculate_metrics(output, target)\n",
    "            metrics['loss'] = loss\n",
    "\n",
    "            # Tensorboard\n",
    "            for k, v in metrics.items():\n",
    "                writer.add_scalar(f\"Test/{k}\", v, global_step=epoch)\n",
    "\n",
    "            tepoch.set_postfix(**metrics)"
   ]
  },
  {
   "cell_type": "code",
   "execution_count": null,
   "metadata": {},
   "outputs": [],
   "source": []
  }
 ],
 "metadata": {
  "interpreter": {
   "hash": "ef47a6bd00e2ad3621fb1fa928a4550ea9d693bd1a9d64d82e8b39edfca4292c"
  },
  "kernelspec": {
   "display_name": "Python 3.9.7 ('coursach_rl')",
   "language": "python",
   "name": "python3"
  },
  "language_info": {
   "codemirror_mode": {
    "name": "ipython",
    "version": 3
   },
   "file_extension": ".py",
   "mimetype": "text/x-python",
   "name": "python",
   "nbconvert_exporter": "python",
   "pygments_lexer": "ipython3",
   "version": "3.9.7"
  },
  "orig_nbformat": 4
 },
 "nbformat": 4,
 "nbformat_minor": 2
}
